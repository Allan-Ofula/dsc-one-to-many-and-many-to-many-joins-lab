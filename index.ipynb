{
 "cells": [
  {
   "cell_type": "markdown",
   "metadata": {},
   "source": [
    "# One-to-Many and Many-to-Many Joins - Lab"
   ]
  },
  {
   "cell_type": "markdown",
   "metadata": {},
   "source": [
    "## Introduction"
   ]
  },
  {
   "cell_type": "markdown",
   "metadata": {},
   "source": [
    "In this lab, you'll practice your knowledge of one-to-many and many-to-many relationships!"
   ]
  },
  {
   "cell_type": "markdown",
   "metadata": {},
   "source": [
    "## Objectives\n",
    "\n",
    "You will be able to:\n",
    "\n",
    "* Explain one-to-many and many-to-many joins as well as implications for the size of query results\n",
    "* Query data using one-to-many and many-to-many joins"
   ]
  },
  {
   "cell_type": "markdown",
   "metadata": {},
   "source": [
    "## One-to-Many and Many-to-Many Joins\n",
    "<img src='https://curriculum-content.s3.amazonaws.com/data-science/images/Database-Schema.png' width=\"600\">"
   ]
  },
  {
   "cell_type": "markdown",
   "metadata": {},
   "source": [
    "## Connect to the Database\n",
    "\n",
    "Include the relevant imports, then connect to the database located at `data.sqlite`."
   ]
  },
  {
   "cell_type": "code",
   "execution_count": 1,
   "metadata": {},
   "outputs": [],
   "source": [
    "# Your code here\n",
    "\n",
    "# Importing packages\n",
    "import sqlite3  \n",
    "import pandas as pd  \n",
    "\n",
    "# Connecting to the database \n",
    "conn = sqlite3.connect(\"data.sqlite\")\n",
    "cur = conn.cursor()"
   ]
  },
  {
   "cell_type": "markdown",
   "metadata": {},
   "source": [
    "## Employees and Their Offices (a One-to-One Join)\n",
    "\n",
    "Select all of the employees including their first name and last name along with the city and state of the office that they work out of (if they have one). Include all employees and order them by their first name, then their last name."
   ]
  },
  {
   "cell_type": "code",
   "execution_count": 3,
   "metadata": {},
   "outputs": [
    {
     "name": "stdout",
     "output_type": "stream",
     "text": [
      "   firstName   lastName           city       state\n",
      "0       Andy     Fixter         Sydney            \n",
      "1    Anthony        Bow  San Francisco          CA\n",
      "2      Barry      Jones         London            \n",
      "3      Diane     Murphy  San Francisco          CA\n",
      "4   Foon Yue      Tseng            NYC          NY\n",
      "5     George     Vanauf            NYC          NY\n",
      "6     Gerard     Bondur          Paris            \n",
      "7     Gerard  Hernandez          Paris            \n",
      "8       Jeff   Firrelli  San Francisco          CA\n",
      "9      Julie   Firrelli         Boston          MA\n",
      "10     Larry       Bott         London            \n",
      "11    Leslie   Jennings  San Francisco          CA\n",
      "12    Leslie   Thompson  San Francisco          CA\n",
      "13      Loui     Bondur          Paris            \n",
      "14      Mami      Nishi          Tokyo  Chiyoda-Ku\n",
      "15    Martin     Gerard          Paris            \n",
      "16      Mary  Patterson  San Francisco          CA\n",
      "17    Pamela   Castillo          Paris            \n",
      "18     Peter      Marsh         Sydney            \n",
      "19     Steve  Patterson         Boston          MA\n",
      "20       Tom       King         Sydney            \n",
      "21   William  Patterson         Sydney            \n",
      "22   Yoshimi       Kato          Tokyo  Chiyoda-Ku\n"
     ]
    }
   ],
   "source": [
    "# Your code here\n",
    "\n",
    "# Selecting employees first, last names along with their office city and state\n",
    "query_1 = '''\n",
    "SELECT e.firstName, e.lastName, o.city, o.state\n",
    "FROM employees e\n",
    "LEFT JOIN offices o ON e.officeCode = o.officeCode  -- Join employees table with offices table\n",
    "ORDER BY e.firstName, e.lastName;  -- Order results alphabetically by first and last name\n",
    "'''\n",
    "\n",
    "df = pd.read_sql_query(query_1, conn)\n",
    "print(df)"
   ]
  },
  {
   "cell_type": "markdown",
   "metadata": {},
   "source": [
    "## Customers and Their Orders (a One-to-Many Join)\n",
    "\n",
    "Select all of the customer contacts (first and last names) along with details for each of the customers' order numbers, order dates, and statuses."
   ]
  },
  {
   "cell_type": "code",
   "execution_count": 5,
   "metadata": {},
   "outputs": [
    {
     "name": "stdout",
     "output_type": "stream",
     "text": [
      "    contactFirstName  contactLastName  orderNumber   orderDate      status\n",
      "0             Adrian           Huxley      10139.0  2003-07-16     Shipped\n",
      "1             Adrian           Huxley      10270.0  2004-07-19     Shipped\n",
      "2             Adrian           Huxley      10361.0  2004-12-17     Shipped\n",
      "3             Adrian           Huxley      10420.0  2005-05-29  In Process\n",
      "4              Akiko        Shimamura      10258.0  2004-06-15     Shipped\n",
      "..               ...              ...          ...         ...         ...\n",
      "345           Yoshi            Tamuri      10206.0  2003-12-05     Shipped\n",
      "346           Yoshi            Tamuri      10313.0  2004-10-22     Shipped\n",
      "347               Yu             Choi      10242.0  2004-04-20     Shipped\n",
      "348               Yu             Choi      10319.0  2004-11-03     Shipped\n",
      "349         Zbyszek   Piestrzeniewicz          NaN        None        None\n",
      "\n",
      "[350 rows x 5 columns]\n"
     ]
    }
   ],
   "source": [
    "# Your code here\n",
    "\n",
    "# Selecting customer contacts along with order details\n",
    "query_2 = '''\n",
    "SELECT c.contactFirstName, c.contactLastName, o.orderNumber, o.orderDate, o.status\n",
    "FROM customers c\n",
    "LEFT JOIN orders o ON c.customerNumber = o.customerNumber  -- Join customers table with orders table\n",
    "ORDER BY c.contactFirstName, c.contactLastName;  -- Sort alphabetically by customer name\n",
    "'''\n",
    "\n",
    "df = pd.read_sql_query(query_2, conn)\n",
    "print(df)"
   ]
  },
  {
   "cell_type": "markdown",
   "metadata": {},
   "source": [
    "## Customers and Their Payments (Another One-to-Many Join)\n",
    "\n",
    "Select all of the customer contacts (first and last names) along with details for each of the customers' payment amounts and date of payment. Sort these results in descending order by the payment amount. "
   ]
  },
  {
   "cell_type": "code",
   "execution_count": 7,
   "metadata": {},
   "outputs": [
    {
     "name": "stdout",
     "output_type": "stream",
     "text": [
      "    contactFirstName contactLastName     amount paymentDate\n",
      "0             Diego           Freyre  120166.58  2005-03-18\n",
      "1             Diego           Freyre  116208.40  2004-12-31\n",
      "2              Susan          Nelson  111654.40  2003-08-15\n",
      "3               Eric       Natividad  105743.00  2003-12-26\n",
      "4              Susan          Nelson  101244.59  2005-03-05\n",
      "..               ...             ...        ...         ...\n",
      "292            Sven          Ottlieb        NaN        None\n",
      "293           Carmen           Anton        NaN        None\n",
      "294           Hanna             Moos        NaN        None\n",
      "295       Alexander          Semenov        NaN        None\n",
      "296           Raanan     Altagar,G M        NaN        None\n",
      "\n",
      "[297 rows x 4 columns]\n"
     ]
    }
   ],
   "source": [
    "# Your code here\n",
    "\n",
    "# customer contacts and payment details\n",
    "query_3 = '''\n",
    "SELECT c.contactFirstName, c.contactLastName, p.amount, p.paymentDate\n",
    "FROM customers c\n",
    "LEFT JOIN payments p ON c.customerNumber = p.customerNumber  -- Join customers with payments\n",
    "ORDER BY p.amount DESC;  -- Sort by payment amount in descending order\n",
    "'''\n",
    "\n",
    "df = pd.read_sql_query(query_3, conn)\n",
    "print(df)"
   ]
  },
  {
   "cell_type": "markdown",
   "metadata": {},
   "source": [
    "## Orders, Order Details, and Product Details (a Many-to-Many Join)"
   ]
  },
  {
   "cell_type": "markdown",
   "metadata": {},
   "source": [
    "Select all of the customer contacts (first and last names) along with the product names, quantities, and date ordered for each of the customers and each of their orders. Sort these in descending order by the order date.\n",
    "\n",
    "> Note: This will require joining 4 tables! This can be tricky! Give it a shot, and if you're still stuck, turn to the next section where you'll see how to write subqueries that can make complex queries such as this much simpler!"
   ]
  },
  {
   "cell_type": "code",
   "execution_count": 9,
   "metadata": {},
   "outputs": [
    {
     "name": "stdout",
     "output_type": "stream",
     "text": [
      "     contactFirstName contactLastName  \\\n",
      "0             Janine          Labrune   \n",
      "1             Janine          Labrune   \n",
      "2             Janine          Labrune   \n",
      "3             Janine          Labrune   \n",
      "4             Janine          Labrune   \n",
      "...               ...             ...   \n",
      "2991           Roland          Keitel   \n",
      "2992          Dorothy           Young   \n",
      "2993          Dorothy           Young   \n",
      "2994          Dorothy           Young   \n",
      "2995          Dorothy           Young   \n",
      "\n",
      "                                    productName  quantityOrdered   orderDate  \n",
      "0                        1962 LanciaA Delta 16V               38  2005-05-31  \n",
      "1                             1957 Chevy Pickup               33  2005-05-31  \n",
      "2                1998 Chrysler Plymouth Prowler               28  2005-05-31  \n",
      "3                        1964 Mercedes Tour Bus               38  2005-05-31  \n",
      "4                         1926 Ford Fire Engine               19  2005-05-31  \n",
      "...                                         ...              ...         ...  \n",
      "2991  1938 Cadillac V-16 Presidential Limousine               46  2003-01-09  \n",
      "2992                   1917 Grand Touring Sedan               30  2003-01-06  \n",
      "2993                         1911 Ford Town Car               50  2003-01-06  \n",
      "2994        1932 Alfa Romeo 8C2300 Spider Sport               22  2003-01-06  \n",
      "2995           1936 Mercedes Benz 500k Roadster               49  2003-01-06  \n",
      "\n",
      "[2996 rows x 5 columns]\n"
     ]
    }
   ],
   "source": [
    "# Your code here\n",
    "\n",
    "# Selecting customer contacts, product names, quantities and order dates\n",
    "query_4 = '''\n",
    "SELECT c.contactFirstName, c.contactLastName, p.productName, od.quantityOrdered, o.orderDate\n",
    "FROM customers c\n",
    "JOIN orders o ON c.customerNumber = o.customerNumber  -- Join customers with orders\n",
    "JOIN orderdetails od ON o.orderNumber = od.orderNumber  -- Join orders with order details\n",
    "JOIN products p ON od.productCode = p.productCode  -- Join order details with products\n",
    "ORDER BY o.orderDate DESC;  -- Sort by order date in descending order\n",
    "'''\n",
    "\n",
    "df = pd.read_sql_query(query_4, conn)\n",
    "print(df)"
   ]
  },
  {
   "cell_type": "markdown",
   "metadata": {},
   "source": [
    "## Summary"
   ]
  },
  {
   "cell_type": "markdown",
   "metadata": {},
   "source": [
    "In this lab, you practiced your knowledge of one-to-many and many-to-many relationships!"
   ]
  }
 ],
 "metadata": {
  "kernelspec": {
   "display_name": "Python [conda env:base] *",
   "language": "python",
   "name": "conda-base-py"
  },
  "language_info": {
   "codemirror_mode": {
    "name": "ipython",
    "version": 3
   },
   "file_extension": ".py",
   "mimetype": "text/x-python",
   "name": "python",
   "nbconvert_exporter": "python",
   "pygments_lexer": "ipython3",
   "version": "3.12.3"
  },
  "toc": {
   "base_numbering": 1,
   "nav_menu": {},
   "number_sections": true,
   "sideBar": true,
   "skip_h1_title": false,
   "title_cell": "Table of Contents",
   "title_sidebar": "Contents",
   "toc_cell": false,
   "toc_position": {},
   "toc_section_display": true,
   "toc_window_display": false
  }
 },
 "nbformat": 4,
 "nbformat_minor": 4
}
